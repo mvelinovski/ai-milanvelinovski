{
 "cells": [
  {
   "cell_type": "raw",
   "id": "d1232727-1960-42dc-99e5-9582712fce75",
   "metadata": {},
   "source": [
    "5. Три патника треба да ја преминат реката. Црвен, син и зелен. Црвениот има две торби, синиот една, а зелениот нема.\n",
    "    * Чамецот може да издржи највеќе два патника или патник со торба.\n",
    "    * Ниеден патник не смее да биде оставен насамо со туѓа торба."
   ]
  },
  {
   "cell_type": "code",
   "execution_count": 6,
   "id": "ba37ac12-ce96-4eeb-b92e-7dc204aa086e",
   "metadata": {},
   "outputs": [],
   "source": [
    "from collections import deque\n",
    "import itertools"
   ]
  },
  {
   "cell_type": "code",
   "execution_count": 7,
   "id": "039f284e-88be-49c0-9c2c-ca578f8c4542",
   "metadata": {},
   "outputs": [],
   "source": [
    "PASSENGERS = ['red', 'blue', 'green']\n",
    "BAGS = ['r1', 'r2', 'b1']"
   ]
  },
  {
   "cell_type": "code",
   "execution_count": 8,
   "id": "8176a5c1-64ab-4c1d-8edc-32b0d22deb16",
   "metadata": {},
   "outputs": [],
   "source": [
    "def unpack_state(state):\n",
    "    boat = state[0]\n",
    "    left_bank_passengers = set([PASSENGERS[index] for index, side in enumerate(state[1:4]) if side == 'left'])\n",
    "    right_bank_passengers = set([PASSENGERS[index] for index, side in enumerate(state[1:4]) if side == 'right'])\n",
    "    left_bank_bags = set([BAGS[index] for index, bag in enumerate(state[4:]) if bag == 'left'])\n",
    "    right_bank_bags = set([BAGS[index] for index, bag in enumerate(state[4:]) if bag == 'right'])\n",
    "    \n",
    "    #print(boat, left_bank_passengers, left_bank_bags, right_bank_passengers, right_bank_bags)\n",
    "    return boat, left_bank_passengers, left_bank_bags, right_bank_passengers, right_bank_bags"
   ]
  },
  {
   "cell_type": "code",
   "execution_count": 9,
   "id": "daae4534-f7d3-4121-8818-a60d87e7918e",
   "metadata": {},
   "outputs": [],
   "source": [
    "def obtain_boat_trips(available_passengers, available_bags):\n",
    "    l_pass = list(available_passengers)\n",
    "    l_bags = list(available_bags)\n",
    "    boat_trips_passengers = [(passenger, ) for passenger in l_pass]\n",
    "    boat_trips_passenger_bag = []\n",
    "    if len(l_pass) >= 2:\n",
    "        for possible_trip in itertools.combinations(l_pass, 2):\n",
    "            boat_trips_passengers.append((possible_trip))\n",
    "    for passenger in l_pass:\n",
    "        for bag in l_bags:\n",
    "            if passenger == 'red' and (bag == 'r1' or bag == 'r2'):\n",
    "                boat_trips_passenger_bag.append((passenger, bag))\n",
    "            if passenger == 'blue' and bag == 'b1':\n",
    "                boat_trips_passenger_bag.append((passenger, bag))\n",
    "    #print(boat_trips_passengers, boat_trips_passenger_bag)\n",
    "    return boat_trips_passengers, boat_trips_passenger_bag"
   ]
  },
  {
   "cell_type": "code",
   "execution_count": 10,
   "id": "c15615be-6e56-4b76-a5eb-3c632591e630",
   "metadata": {},
   "outputs": [],
   "source": [
    "def approval(bank_passengers, bank_bags):\n",
    "    if 'red' in bank_passengers and len(bank_passengers) == 1 and 'b1' in bank_bags:\n",
    "        return False\n",
    "    if 'blue' in bank_passengers and len(bank_passengers) == 1 and ('r1' or 'r2' in bank_bags):\n",
    "        return False\n",
    "    if 'green' in bank_passengers and len(bank_passengers) == 1 and bank_bags:\n",
    "        return False\n",
    "    return True"
   ]
  },
  {
   "cell_type": "code",
   "execution_count": 11,
   "id": "de400797-8123-447e-8756-534354807bbe",
   "metadata": {},
   "outputs": [],
   "source": [
    "def other_side(boat):\n",
    "    if boat == 'left':\n",
    "        return 'right'\n",
    "    else:\n",
    "        return 'left'"
   ]
  },
  {
   "cell_type": "code",
   "execution_count": 12,
   "id": "16c8329a-6f64-4cd2-9f4a-49d945878053",
   "metadata": {},
   "outputs": [],
   "source": [
    "def belongs(who, left_bank, right_bank):\n",
    "    if who in left_bank:\n",
    "        return 'left'\n",
    "    elif who in right_bank:\n",
    "        return 'right'\n",
    "    else:\n",
    "        return 'Missing!!!'"
   ]
  },
  {
   "cell_type": "code",
   "execution_count": 13,
   "id": "e8e0f99f-bd9e-4679-ad34-d77d8e781e35",
   "metadata": {},
   "outputs": [],
   "source": [
    "def expand_state(state):\n",
    "    boat, left_bank_passengers, left_bank_bags, right_bank_passengers, right_bank_bags = unpack_state(state)\n",
    "    new_states = []\n",
    "    \n",
    "    if boat == 'left':\n",
    "        boat_trips_passengers, boat_trips_passenger_bag = obtain_boat_trips(left_bank_passengers, left_bank_bags)\n",
    "    else:\n",
    "        boat_trips_passengers, boat_trips_passenger_bag = obtain_boat_trips(right_bank_passengers, right_bank_bags)\n",
    "    \n",
    "    for trip_passengers in boat_trips_passengers:\n",
    "        if boat == 'left':\n",
    "            new_left_bank_passengers = left_bank_passengers - set(trip_passengers)\n",
    "            new_right_bank_passengers = right_bank_passengers | set(trip_passengers)\n",
    "            new_left_bank_bags = left_bank_bags\n",
    "            new_right_bank_bags = right_bank_bags\n",
    "        if boat == 'right':\n",
    "            new_left_bank_passengers = left_bank_passengers | set(trip_passengers)\n",
    "            new_right_bank_passengers = right_bank_passengers - set(trip_passengers)\n",
    "            new_left_bank_bags = left_bank_bags\n",
    "            new_right_bank_bags = right_bank_bags\n",
    "            \n",
    "        if approval(new_left_bank_passengers, new_left_bank_bags) and approval(new_right_bank_passengers, new_right_bank_bags):\n",
    "            red = belongs('red', new_left_bank_passengers, new_right_bank_passengers)\n",
    "            blue = belongs('blue', new_left_bank_passengers, new_right_bank_passengers)\n",
    "            green = belongs('green', new_left_bank_passengers, new_right_bank_passengers)\n",
    "            r1 = belongs('r1', new_left_bank_bags, new_right_bank_bags)\n",
    "            r2 = belongs('r2', new_left_bank_bags, new_right_bank_bags)\n",
    "            b1 = belongs('b1', new_left_bank_bags, new_right_bank_bags)\n",
    "            new_states.append((other_side(boat), red, blue, green, r1, r2, b1))\n",
    "            \n",
    "    for trip_passenger_bag in boat_trips_passenger_bag:\n",
    "        if boat == 'left':\n",
    "            new_left_bank_passengers = left_bank_passengers - set(trip_passenger_bag[0])\n",
    "            new_left_bank_bags = left_bank_bags - set(trip_passenger_bag[1])\n",
    "            new_right_bank_passengers = right_bank_passengers | set(trip_passenger_bag[0])\n",
    "            new_right_bank_bags = right_bank_bags | set(trip_passenger_bag[1])\n",
    "        if boat == 'right':\n",
    "            new_left_bank_passengers = left_bank_passengers | set(trip_passenger_bag[0])\n",
    "            new_left_bank_bags = left_bank_bags | set(trip_passenger_bag[1])\n",
    "            new_right_bank_passengers = right_bank_passengers - set(trip_passenger_bag[0])\n",
    "            new_right_bank_bags = right_bank_bags - set(trip_passenger_bag[1]) \n",
    "            \n",
    "        if approval(new_left_bank_passengers, new_left_bank_bags) and approval(new_right_bank_passengers, new_right_bank_bags):\n",
    "            red = belongs('red', new_left_bank_passengers, new_right_bank_passengers)\n",
    "            blue = belongs('blue', new_left_bank_passengers, new_right_bank_passengers)\n",
    "            green = belongs('green', new_left_bank_passengers, new_right_bank_passengers)\n",
    "            r1 = belongs('r1', new_left_bank_bags, new_right_bank_bags)\n",
    "            r2 = belongs('r2', new_left_bank_bags, new_right_bank_bags)\n",
    "            b1 = belongs('b1', new_left_bank_bags, new_right_bank_bags)\n",
    "            new_states.append((other_side(boat), red, blue, green, r1, r2, b1))\n",
    "    #print(new_left_bank_passengers, new_left_bank_bags)\n",
    "    #print(left_bank_passengers)\n",
    "    #print(new_states)\n",
    "    return new_states"
   ]
  },
  {
   "cell_type": "code",
   "execution_count": 14,
   "id": "e7d10e65-7f6e-4318-b63b-f0d885f78ba4",
   "metadata": {},
   "outputs": [],
   "source": [
    "def search_path(initial_state, goal_state):\n",
    "    visited = {initial_state}\n",
    "    states_queue = deque([[initial_state]])\n",
    "    while states_queue:\n",
    "        states_list = states_queue.popleft()\n",
    "        state_to_expand = states_list[-1]\n",
    "        #print(states_list)\n",
    "        for next_state in expand_state(state_to_expand):\n",
    "            if next_state not in visited:\n",
    "                if next_state == goal_state:\n",
    "                    return states_list + [next_state]\n",
    "                visited.add(next_state)\n",
    "                states_queue.append(states_list + [next_state])\n",
    "    #print(visited)\n",
    "    #print(states_queue)\n",
    "    return []"
   ]
  },
  {
   "cell_type": "code",
   "execution_count": 56,
   "id": "6d365709-43cd-46c4-85fd-e5ebddb90643",
   "metadata": {},
   "outputs": [],
   "source": [
    "def visualise(path):\n",
    "    if not path:\n",
    "        print('Search path did not find a solution')\n",
    "        return\n",
    "    for pair_of_states in zip(path, path[1:]):\n",
    "        boat_old, left_old, right_old = unpack_state(pair_of_states[0])\n",
    "        boat_new, left_new, right_new = unpack_state(pair_of_states[1])\n",
    "        delimiter_space = ' ' * 50\n",
    "        separated_print(left_old)\n",
    "        print(delimiter_space, end='')\n",
    "        separated_print(right_old)\n",
    "        print()\n",
    "        if boat_old == 'left':\n",
    "            delimiter = ' ' * 5 + '>' * 15 + ' ' * 5\n",
    "            separated_print(left_new)\n",
    "            print(delimiter, end='')\n",
    "            separated_print(left_old - left_new)\n",
    "            print(delimiter, end='')\n",
    "            separated_print(right_old)\n",
    "            print()\n",
    "        else:\n",
    "            delimiter = ' ' * 5 + '<' * 15 + ' ' * 5\n",
    "            separated_print(left_old)\n",
    "            print(delimiter, end='')\n",
    "            separated_print(right_old - right_new)\n",
    "            print(delimiter, end='')\n",
    "            separated_print(right_new)\n",
    "            print()\n",
    "        separated_print(left_new)\n",
    "        print(delimiter_space, end='')\n",
    "        separated_print(right_new)\n",
    "        print()\n",
    "        print()\n",
    "        print()"
   ]
  },
  {
   "cell_type": "code",
   "execution_count": 57,
   "id": "0cdc688f-4037-4264-a4f3-4ac09fa1011f",
   "metadata": {},
   "outputs": [],
   "source": [
    "def separated_print(iterable):\n",
    "    for element in iterable:\n",
    "        print(element, end=' ')\n",
    "    if not iterable:\n",
    "        print('Empty', end='')"
   ]
  },
  {
   "cell_type": "code",
   "execution_count": 15,
   "id": "abe82823-e9a2-44df-8091-f07f3daf8680",
   "metadata": {},
   "outputs": [
    {
     "name": "stdout",
     "output_type": "stream",
     "text": [
      "[]\n"
     ]
    }
   ],
   "source": [
    "initial_state = ('left', 'left', 'left', 'left', 'left', 'left', 'left') # poslednite 3 se torbite\n",
    "goal_state = ('right', 'right', 'right', 'right', 'right', 'right', 'right') # prvoto e pozicija na brod\n",
    "path = search_path(initial_state, goal_state)\n",
    "print(path)"
   ]
  },
  {
   "cell_type": "code",
   "execution_count": null,
   "id": "7a9a0400-cbcd-4992-8b6c-7fab68d98c18",
   "metadata": {},
   "outputs": [],
   "source": []
  }
 ],
 "metadata": {
  "kernelspec": {
   "display_name": "Python 3 (ipykernel)",
   "language": "python",
   "name": "python3"
  },
  "language_info": {
   "codemirror_mode": {
    "name": "ipython",
    "version": 3
   },
   "file_extension": ".py",
   "mimetype": "text/x-python",
   "name": "python",
   "nbconvert_exporter": "python",
   "pygments_lexer": "ipython3",
   "version": "3.10.6"
  }
 },
 "nbformat": 4,
 "nbformat_minor": 5
}
