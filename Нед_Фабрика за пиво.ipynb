{
 "cells": [
  {
   "cell_type": "raw",
   "id": "1555e5bb-f0b3-4d57-91fd-9f1056549d0e",
   "metadata": {},
   "source": [
    "Разгледуваме фабрика за производство на пиво. За пакување на пивото во шишиња се користат рециклирани шишиња кои во фабриката пристигаат во гајби. Следат постапките:\n",
    "\n",
    "Сите шишиња се ставаат врз платформата.\n",
    "Платформата собира 15х15 шишиња.\n",
    "За поедноставни пресметки за време на испитот, ќе сметаме дека платформата собира 7х7 шишиња.\n",
    "Софтвер за препознавање ги скенира сите шишиња од платформата, и во себе забележува по еден код за секое шише:\n",
    "(0) - Празно место, нема шише.\n",
    "(1) - Скршено шише.\n",
    "(2) - Шише во добра состојба, од нашата пивара.\n",
    "(3) - Шише од друга пивара.\n",
    "Роботот ги избира соодветните шишиња (со код 2) и ги префрла на подвижната лента за понатаму.\n",
    "Роботот наеднаш може да земе 10 шишиња, бидејќи има 10 дланки (5 х 2).\n",
    "За поедноставни пресметки за време на испитот, ќе сметаме дека роботот има 6 дланки (3 х 2), па роботот може наеднаш да земе најмногу 6 шишиња од платформата.\n",
    "Роботот може да ротира за 90 степени.\n",
    "Ваша задача е да напишете код со алгоритмите од вештачка интелигенција за чекорот 3. Целта е роботот во минимален број придвижувања да ги издвои соодветните шишиња (со код 2)."
   ]
  },
  {
   "cell_type": "code",
   "execution_count": 35,
   "id": "ab196427-18db-4534-95fa-64949ab7409e",
   "metadata": {},
   "outputs": [],
   "source": [
    "from collections import deque"
   ]
  },
  {
   "cell_type": "code",
   "execution_count": 58,
   "id": "7a17f0e0-71bb-4624-94b3-9300209d4928",
   "metadata": {},
   "outputs": [],
   "source": [
    "def find(state):\n",
    "    for x in range(7):\n",
    "        for y in range(7):\n",
    "            if state[x][y] == 2:\n",
    "                return (x, y)"
   ]
  },
  {
   "cell_type": "code",
   "execution_count": 48,
   "id": "3bdc66aa-fd4f-4df9-bbcf-1b12df24b6f1",
   "metadata": {},
   "outputs": [],
   "source": [
    "def pick(x, y):\n",
    "    neighbours = [[]]\n",
    "    check_1 = 1\n",
    "    check_2 = 1\n",
    "    neighbours_2x3 = [(x, y), (x, y+1), (x, y+2), (x+1, y), (x+1, y+1), (x+1, y+2)]\n",
    "    neighbours_3x2 = [(x, y), (x+1, y), (x+2, y), (x, y+1), (x+1, y+1), (x+2, y+1)]\n",
    "    for x, y in neighbours_2x3:\n",
    "        if x>7 or x<0 or y>7 or y<0:\n",
    "            check_1 = 0\n",
    "    for x, y in neighbours_3x2:\n",
    "        if x>7 or x<0 or y>7 or y<0:\n",
    "            check_2 = 0\n",
    "    if check_1:\n",
    "        neighbours.append(neighbours_2x3)\n",
    "    if check_2:\n",
    "        neighbours.append(neighbours_3x2)\n",
    "    return neighbours"
   ]
  },
  {
   "cell_type": "code",
   "execution_count": 51,
   "id": "4a30de71-c34b-4183-9f94-fa83e93d66ed",
   "metadata": {},
   "outputs": [],
   "source": [
    "def expand_state(state):\n",
    "    new_states = []\n",
    "    state_list = list([list(x) for x in state])\n",
    "    helper1 = state_list\n",
    "    helper2 = state_list\n",
    "    x, y = find(state_list)\n",
    "    neighbours_list = pick(x, y)\n",
    "    if len(neighbours_list) == 1:\n",
    "        for neighbours in neighbours_list:\n",
    "            for x, y in neighbours:\n",
    "                if state_list[x][y] == 2:\n",
    "                    state_list[x][y] = 0\n",
    "            new_states.append(tuple([tuple(x) for x in state_list]))\n",
    "    elif len(neighbours_list) == 2:\n",
    "        for x, y in neighbours_list[0]:\n",
    "            if state_list[x][y] == 2:\n",
    "                helper1[x][y] = 0\n",
    "        new_states.append(tuple([tuple(x) for x in helper1]))\n",
    "        for x, y in neighbours_list[1]:\n",
    "            if state_list[x][y] == 2:\n",
    "                helper2[x][y] = 0\n",
    "        new_states.append(tuple([tuple(x) for x in helper2]))\n",
    "    \n",
    "    return new_states"
   ]
  },
  {
   "cell_type": "code",
   "execution_count": 60,
   "id": "0cf2a031-7ff8-4e92-93b6-68c4e22dbaf4",
   "metadata": {},
   "outputs": [],
   "source": [
    "def check_end(state):\n",
    "    state_list = list([list(x) for x in state])\n",
    "    for x in range(7):\n",
    "        for y in range(7):\n",
    "            if state_list[x][y] == 2:\n",
    "                return False\n",
    "    return True"
   ]
  },
  {
   "cell_type": "code",
   "execution_count": 61,
   "id": "aaba1c70-ded4-4a8e-8cf9-9c72c58702f2",
   "metadata": {},
   "outputs": [],
   "source": [
    "def search_path(initial_state):\n",
    "    visited = {initial_state}\n",
    "    states_queue = deque([[initial_state]])\n",
    "    while states_queue:\n",
    "        states_list = states_queue.popleft()\n",
    "        state_to_expand = states_list[-1]\n",
    "        for next_state in expand_state(state_to_expand):\n",
    "            if next_state not in visited:\n",
    "                if check_end(next_state):\n",
    "                    return states_list + [next_state]\n",
    "                visited.add(next_state)\n",
    "                states_queue.appendleft(states_list + [next_state])\n",
    "    return []"
   ]
  },
  {
   "cell_type": "code",
   "execution_count": 62,
   "id": "4538797b-ff96-44b9-9682-c83c20a16a0e",
   "metadata": {},
   "outputs": [],
   "source": [
    "g  = (\n",
    "    (0, 3, 2, 0, 2, 2, 2),\n",
    "    (2, 1, 2, 2, 2, 3, 2),\n",
    "    (2, 2, 0, 2, 2, 2, 2),\n",
    "    (0, 2, 2, 2, 2, 2, 0),\n",
    "    (2, 2, 3, 2, 2, 2, 2),\n",
    "    (2, 2, 1, 2, 2, 2, 2),\n",
    "    (0, 3, 0, 2, 2, 2, 2)\n",
    ")"
   ]
  },
  {
   "cell_type": "code",
   "execution_count": null,
   "id": "0344665e-a2bd-4668-9fb2-a322076f9344",
   "metadata": {},
   "outputs": [],
   "source": []
  },
  {
   "cell_type": "code",
   "execution_count": 63,
   "id": "61644a0e-e543-4ac2-9f49-7488434d5822",
   "metadata": {},
   "outputs": [
    {
     "name": "stdout",
     "output_type": "stream",
     "text": [
      "[]\n"
     ]
    }
   ],
   "source": [
    "path = search_path(g)\n",
    "print(path)"
   ]
  },
  {
   "cell_type": "code",
   "execution_count": null,
   "id": "d57d4322-0e4b-40c8-a174-dbb6fe8199c7",
   "metadata": {},
   "outputs": [],
   "source": []
  }
 ],
 "metadata": {
  "kernelspec": {
   "display_name": "Python 3 (ipykernel)",
   "language": "python",
   "name": "python3"
  },
  "language_info": {
   "codemirror_mode": {
    "name": "ipython",
    "version": 3
   },
   "file_extension": ".py",
   "mimetype": "text/x-python",
   "name": "python",
   "nbconvert_exporter": "python",
   "pygments_lexer": "ipython3",
   "version": "3.10.6"
  }
 },
 "nbformat": 4,
 "nbformat_minor": 5
}
